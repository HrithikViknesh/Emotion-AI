{
 "cells": [
  {
   "cell_type": "markdown",
   "metadata": {
    "toc": true
   },
   "source": [
    "<h1>Table of Contents<span class=\"tocSkip\"></span></h1>\n",
    "<div class=\"toc\"><ul class=\"toc-item\"><li><span><a href=\"#Using-both-models-in-tandem\" data-toc-modified-id=\"Using-both-models-in-tandem-1\"><span class=\"toc-item-num\">1&nbsp;&nbsp;</span>Using both models in tandem</a></span><ul class=\"toc-item\"><li><span><a href=\"#Facial-Keypoints-model\" data-toc-modified-id=\"Facial-Keypoints-model-1.1\"><span class=\"toc-item-num\">1.1&nbsp;&nbsp;</span>Facial Keypoints model</a></span></li><li><span><a href=\"#Emotion-Detection-Model\" data-toc-modified-id=\"Emotion-Detection-Model-1.2\"><span class=\"toc-item-num\">1.2&nbsp;&nbsp;</span>Emotion Detection Model</a></span></li></ul></li><li><span><a href=\"#Loading-test-split(of-emotion-data)\" data-toc-modified-id=\"Loading-test-split(of-emotion-data)-2\"><span class=\"toc-item-num\">2&nbsp;&nbsp;</span>Loading test split(of emotion data)</a></span></li><li><span><a href=\"#Deploying-the-models-using-Tensorflow-2.0-serving\" data-toc-modified-id=\"Deploying-the-models-using-Tensorflow-2.0-serving-3\"><span class=\"toc-item-num\">3&nbsp;&nbsp;</span>Deploying the models using Tensorflow 2.0 serving</a></span></li></ul></div>"
   ]
  },
  {
   "cell_type": "code",
   "execution_count": 18,
   "metadata": {},
   "outputs": [],
   "source": [
    "import pandas as pd\n",
    "import numpy as np\n",
    "import json\n",
    "import os\n",
    "import tensorflow as tf\n",
    "from tensorflow import keras\n",
    "import tensorflow.keras.backend as K\n",
    "import matplotlib\n",
    "%matplotlib inline"
   ]
  },
  {
   "cell_type": "markdown",
   "metadata": {},
   "source": [
    "# Using both models in tandem"
   ]
  },
  {
   "cell_type": "markdown",
   "metadata": {},
   "source": [
    "Now that we have trained and tuned Deep Learning models for both the facial keypoints and emotion detection tasks, we proceed to combining the models and making multiple predictions for a given image set"
   ]
  },
  {
   "cell_type": "markdown",
   "metadata": {},
   "source": [
    "## Facial Keypoints model"
   ]
  },
  {
   "cell_type": "code",
   "execution_count": 2,
   "metadata": {},
   "outputs": [],
   "source": [
    "with open('trained_models/facial_keypoints_resnet_model.json', 'r') as json_file:\n",
    "    json_savedModel= json_file.read()\n",
    "    \n",
    "# load the model architecture \n",
    "facial_keypoints_resnet_model = tf.keras.models.model_from_json(json_savedModel)\n",
    "facial_keypoints_resnet_model.load_weights('trained_models/facial_keypoints_resnet_model_weights.hdf5')\n",
    "adam = tf.keras.optimizers.Adam(learning_rate=0.0001, beta_1=0.9, beta_2=0.999, amsgrad=False)\n",
    "facial_keypoints_resnet_model.compile(loss=\"mean_squared_error\", optimizer= adam , metrics = ['accuracy'])"
   ]
  },
  {
   "cell_type": "markdown",
   "metadata": {},
   "source": [
    "## Emotion Detection Model"
   ]
  },
  {
   "cell_type": "code",
   "execution_count": 3,
   "metadata": {},
   "outputs": [],
   "source": [
    "with open('emotion.json', 'r') as json_file:\n",
    "    json_savedModel= json_file.read()\n",
    "    \n",
    "# load the model architecture \n",
    "emotion_model = tf.keras.models.model_from_json(json_savedModel)\n",
    "emotion_model.load_weights('weights_emotions.hdf5')\n",
    "emotion_model.compile(optimizer = \"Adam\", loss = \"categorical_crossentropy\", metrics = [\"accuracy\"])"
   ]
  },
  {
   "cell_type": "markdown",
   "metadata": {},
   "source": [
    "Let us define a function which uses both the models and makes predicitions on a given data"
   ]
  },
  {
   "cell_type": "code",
   "execution_count": 4,
   "metadata": {},
   "outputs": [
    {
     "name": "stdout",
     "output_type": "stream",
     "text": [
      "['left_eye_center_x', 'left_eye_center_y', 'right_eye_center_x', 'right_eye_center_y', 'left_eye_inner_corner_x', 'left_eye_inner_corner_y', 'left_eye_outer_corner_x', 'left_eye_outer_corner_y', 'right_eye_inner_corner_x', 'right_eye_inner_corner_y', 'right_eye_outer_corner_x', 'right_eye_outer_corner_y', 'left_eyebrow_inner_end_x', 'left_eyebrow_inner_end_y', 'left_eyebrow_outer_end_x', 'left_eyebrow_outer_end_y', 'right_eyebrow_inner_end_x', 'right_eyebrow_inner_end_y', 'right_eyebrow_outer_end_x', 'right_eyebrow_outer_end_y', 'nose_tip_x', 'nose_tip_y', 'mouth_left_corner_x', 'mouth_left_corner_y', 'mouth_right_corner_x', 'mouth_right_corner_y', 'mouth_center_top_lip_x', 'mouth_center_top_lip_y', 'mouth_center_bottom_lip_x', 'mouth_center_bottom_lip_y']\n"
     ]
    }
   ],
   "source": [
    "# Gettting columns of facial keypoints dataframe to apply to results dataframe\n",
    "\n",
    "with open('trained_models/keypoints_df_columns.json') as col_file:\n",
    "    columns = json.load(col_file)\n",
    "    \n",
    "print(columns)"
   ]
  },
  {
   "cell_type": "code",
   "execution_count": 5,
   "metadata": {},
   "outputs": [],
   "source": [
    "def predict(test_imgs):\n",
    "    \n",
    "    # Make predictions using facial keypoints model\n",
    "    df_predict = facial_keypoints_resnet_model.predict(test_imgs)\n",
    "    \n",
    "    # Make predictions using Emotion Detection model, and get the predicted class\n",
    "    df_emotion = np.argmax(emotion_model.predict(test_imgs),axis =-1)\n",
    "    \n",
    "    # Reshape predictions of second model from (test_size,) to (test_size,1)\n",
    "    df_emotion = np.expand_dims(df_emotion,axis = 1)\n",
    "    \n",
    "    # Convert predictions to a dataframe\n",
    "    df_predict = pd.DataFrame(df_predict,columns = columns)\n",
    "    \n",
    "    df_predict['emotion'] = df_emotion\n",
    "    \n",
    "    return df_predict    "
   ]
  },
  {
   "cell_type": "markdown",
   "metadata": {},
   "source": [
    "# Loading test split(of emotion data)"
   ]
  },
  {
   "cell_type": "code",
   "execution_count": 6,
   "metadata": {},
   "outputs": [],
   "source": [
    "with open('trained_models/emotion_test_split.json','r') as f:\n",
    "    to_decode = json.load(f)\n",
    "\n",
    "test_data = json.loads(to_decode)"
   ]
  },
  {
   "cell_type": "markdown",
   "metadata": {},
   "source": [
    "Before converting to numpy array, we check that the data has been read correctly."
   ]
  },
  {
   "cell_type": "code",
   "execution_count": 11,
   "metadata": {},
   "outputs": [
    {
     "data": {
      "text/plain": [
       "1229"
      ]
     },
     "execution_count": 11,
     "metadata": {},
     "output_type": "execute_result"
    }
   ],
   "source": [
    "len(test_data)"
   ]
  },
  {
   "cell_type": "code",
   "execution_count": 12,
   "metadata": {},
   "outputs": [
    {
     "data": {
      "text/plain": [
       "96"
      ]
     },
     "execution_count": 12,
     "metadata": {},
     "output_type": "execute_result"
    }
   ],
   "source": [
    "len(test_data[0])"
   ]
  },
  {
   "cell_type": "code",
   "execution_count": 13,
   "metadata": {},
   "outputs": [
    {
     "data": {
      "text/plain": [
       "96"
      ]
     },
     "execution_count": 13,
     "metadata": {},
     "output_type": "execute_result"
    }
   ],
   "source": [
    "len(test_data[0][0])"
   ]
  },
  {
   "cell_type": "markdown",
   "metadata": {},
   "source": [
    "Converting to numpy array"
   ]
  },
  {
   "cell_type": "code",
   "execution_count": 14,
   "metadata": {},
   "outputs": [
    {
     "data": {
      "text/plain": [
       "(1229, 96, 96, 1)"
      ]
     },
     "execution_count": 14,
     "metadata": {},
     "output_type": "execute_result"
    }
   ],
   "source": [
    "test_data = np.array(test_data)\n",
    "test_data.shape"
   ]
  },
  {
   "cell_type": "markdown",
   "metadata": {},
   "source": [
    "Testing our function"
   ]
  },
  {
   "cell_type": "code",
   "execution_count": 16,
   "metadata": {},
   "outputs": [],
   "source": [
    "df_predict = predict(test_data)"
   ]
  },
  {
   "cell_type": "code",
   "execution_count": 17,
   "metadata": {},
   "outputs": [
    {
     "data": {
      "text/html": [
       "<div>\n",
       "<style scoped>\n",
       "    .dataframe tbody tr th:only-of-type {\n",
       "        vertical-align: middle;\n",
       "    }\n",
       "\n",
       "    .dataframe tbody tr th {\n",
       "        vertical-align: top;\n",
       "    }\n",
       "\n",
       "    .dataframe thead th {\n",
       "        text-align: right;\n",
       "    }\n",
       "</style>\n",
       "<table border=\"1\" class=\"dataframe\">\n",
       "  <thead>\n",
       "    <tr style=\"text-align: right;\">\n",
       "      <th></th>\n",
       "      <th>left_eye_center_x</th>\n",
       "      <th>left_eye_center_y</th>\n",
       "      <th>right_eye_center_x</th>\n",
       "      <th>right_eye_center_y</th>\n",
       "      <th>left_eye_inner_corner_x</th>\n",
       "      <th>left_eye_inner_corner_y</th>\n",
       "      <th>left_eye_outer_corner_x</th>\n",
       "      <th>left_eye_outer_corner_y</th>\n",
       "      <th>right_eye_inner_corner_x</th>\n",
       "      <th>right_eye_inner_corner_y</th>\n",
       "      <th>...</th>\n",
       "      <th>nose_tip_y</th>\n",
       "      <th>mouth_left_corner_x</th>\n",
       "      <th>mouth_left_corner_y</th>\n",
       "      <th>mouth_right_corner_x</th>\n",
       "      <th>mouth_right_corner_y</th>\n",
       "      <th>mouth_center_top_lip_x</th>\n",
       "      <th>mouth_center_top_lip_y</th>\n",
       "      <th>mouth_center_bottom_lip_x</th>\n",
       "      <th>mouth_center_bottom_lip_y</th>\n",
       "      <th>emotion</th>\n",
       "    </tr>\n",
       "  </thead>\n",
       "  <tbody>\n",
       "    <tr>\n",
       "      <th>0</th>\n",
       "      <td>63.225338</td>\n",
       "      <td>39.555046</td>\n",
       "      <td>30.223234</td>\n",
       "      <td>39.981815</td>\n",
       "      <td>57.113300</td>\n",
       "      <td>40.158997</td>\n",
       "      <td>70.933685</td>\n",
       "      <td>39.934227</td>\n",
       "      <td>36.810547</td>\n",
       "      <td>40.570427</td>\n",
       "      <td>...</td>\n",
       "      <td>52.860905</td>\n",
       "      <td>62.059879</td>\n",
       "      <td>65.060501</td>\n",
       "      <td>33.955898</td>\n",
       "      <td>65.286751</td>\n",
       "      <td>47.806236</td>\n",
       "      <td>63.300556</td>\n",
       "      <td>47.314823</td>\n",
       "      <td>69.232315</td>\n",
       "      <td>3</td>\n",
       "    </tr>\n",
       "    <tr>\n",
       "      <th>1</th>\n",
       "      <td>63.858227</td>\n",
       "      <td>35.405937</td>\n",
       "      <td>29.519472</td>\n",
       "      <td>34.745228</td>\n",
       "      <td>57.431396</td>\n",
       "      <td>36.362804</td>\n",
       "      <td>71.780769</td>\n",
       "      <td>36.353031</td>\n",
       "      <td>36.513950</td>\n",
       "      <td>36.072594</td>\n",
       "      <td>...</td>\n",
       "      <td>56.594479</td>\n",
       "      <td>61.833500</td>\n",
       "      <td>75.982635</td>\n",
       "      <td>32.601440</td>\n",
       "      <td>76.591232</td>\n",
       "      <td>47.349449</td>\n",
       "      <td>73.508614</td>\n",
       "      <td>47.029903</td>\n",
       "      <td>83.464516</td>\n",
       "      <td>2</td>\n",
       "    </tr>\n",
       "    <tr>\n",
       "      <th>2</th>\n",
       "      <td>64.983780</td>\n",
       "      <td>36.059624</td>\n",
       "      <td>28.473663</td>\n",
       "      <td>35.799683</td>\n",
       "      <td>57.658897</td>\n",
       "      <td>36.934914</td>\n",
       "      <td>73.093918</td>\n",
       "      <td>36.765244</td>\n",
       "      <td>36.239868</td>\n",
       "      <td>37.025284</td>\n",
       "      <td>...</td>\n",
       "      <td>57.662708</td>\n",
       "      <td>63.431553</td>\n",
       "      <td>75.867180</td>\n",
       "      <td>31.864979</td>\n",
       "      <td>76.845558</td>\n",
       "      <td>47.708309</td>\n",
       "      <td>73.973305</td>\n",
       "      <td>47.553303</td>\n",
       "      <td>82.645836</td>\n",
       "      <td>2</td>\n",
       "    </tr>\n",
       "    <tr>\n",
       "      <th>3</th>\n",
       "      <td>66.266068</td>\n",
       "      <td>57.231506</td>\n",
       "      <td>29.225914</td>\n",
       "      <td>56.698650</td>\n",
       "      <td>60.839813</td>\n",
       "      <td>56.197315</td>\n",
       "      <td>73.957932</td>\n",
       "      <td>56.405087</td>\n",
       "      <td>36.376297</td>\n",
       "      <td>56.147694</td>\n",
       "      <td>...</td>\n",
       "      <td>42.383160</td>\n",
       "      <td>63.708355</td>\n",
       "      <td>28.463791</td>\n",
       "      <td>33.326408</td>\n",
       "      <td>28.859207</td>\n",
       "      <td>48.518372</td>\n",
       "      <td>31.559700</td>\n",
       "      <td>48.341076</td>\n",
       "      <td>24.951239</td>\n",
       "      <td>3</td>\n",
       "    </tr>\n",
       "    <tr>\n",
       "      <th>4</th>\n",
       "      <td>62.588993</td>\n",
       "      <td>36.424339</td>\n",
       "      <td>32.766506</td>\n",
       "      <td>36.414913</td>\n",
       "      <td>56.968884</td>\n",
       "      <td>37.341351</td>\n",
       "      <td>68.973686</td>\n",
       "      <td>37.263817</td>\n",
       "      <td>39.194931</td>\n",
       "      <td>37.270084</td>\n",
       "      <td>...</td>\n",
       "      <td>58.718033</td>\n",
       "      <td>60.969318</td>\n",
       "      <td>77.897827</td>\n",
       "      <td>35.731026</td>\n",
       "      <td>78.042366</td>\n",
       "      <td>48.430191</td>\n",
       "      <td>75.640511</td>\n",
       "      <td>48.110439</td>\n",
       "      <td>84.221992</td>\n",
       "      <td>0</td>\n",
       "    </tr>\n",
       "    <tr>\n",
       "      <th>...</th>\n",
       "      <td>...</td>\n",
       "      <td>...</td>\n",
       "      <td>...</td>\n",
       "      <td>...</td>\n",
       "      <td>...</td>\n",
       "      <td>...</td>\n",
       "      <td>...</td>\n",
       "      <td>...</td>\n",
       "      <td>...</td>\n",
       "      <td>...</td>\n",
       "      <td>...</td>\n",
       "      <td>...</td>\n",
       "      <td>...</td>\n",
       "      <td>...</td>\n",
       "      <td>...</td>\n",
       "      <td>...</td>\n",
       "      <td>...</td>\n",
       "      <td>...</td>\n",
       "      <td>...</td>\n",
       "      <td>...</td>\n",
       "      <td>...</td>\n",
       "    </tr>\n",
       "    <tr>\n",
       "      <th>1224</th>\n",
       "      <td>65.335052</td>\n",
       "      <td>36.820282</td>\n",
       "      <td>29.904051</td>\n",
       "      <td>36.129154</td>\n",
       "      <td>59.144066</td>\n",
       "      <td>37.561111</td>\n",
       "      <td>72.583282</td>\n",
       "      <td>37.737061</td>\n",
       "      <td>36.736530</td>\n",
       "      <td>37.204342</td>\n",
       "      <td>...</td>\n",
       "      <td>57.568581</td>\n",
       "      <td>62.365894</td>\n",
       "      <td>76.098717</td>\n",
       "      <td>33.432579</td>\n",
       "      <td>76.203751</td>\n",
       "      <td>48.003929</td>\n",
       "      <td>72.486702</td>\n",
       "      <td>47.572701</td>\n",
       "      <td>83.815147</td>\n",
       "      <td>0</td>\n",
       "    </tr>\n",
       "    <tr>\n",
       "      <th>1225</th>\n",
       "      <td>60.907719</td>\n",
       "      <td>36.744831</td>\n",
       "      <td>34.395382</td>\n",
       "      <td>37.152073</td>\n",
       "      <td>56.075356</td>\n",
       "      <td>37.824970</td>\n",
       "      <td>67.708221</td>\n",
       "      <td>37.960762</td>\n",
       "      <td>40.064674</td>\n",
       "      <td>38.493389</td>\n",
       "      <td>...</td>\n",
       "      <td>58.298260</td>\n",
       "      <td>60.338192</td>\n",
       "      <td>75.510033</td>\n",
       "      <td>36.752808</td>\n",
       "      <td>75.586006</td>\n",
       "      <td>48.479561</td>\n",
       "      <td>73.686722</td>\n",
       "      <td>47.699680</td>\n",
       "      <td>80.789421</td>\n",
       "      <td>2</td>\n",
       "    </tr>\n",
       "    <tr>\n",
       "      <th>1226</th>\n",
       "      <td>49.301739</td>\n",
       "      <td>39.464100</td>\n",
       "      <td>43.757874</td>\n",
       "      <td>39.889622</td>\n",
       "      <td>49.705399</td>\n",
       "      <td>39.996403</td>\n",
       "      <td>51.482235</td>\n",
       "      <td>39.692917</td>\n",
       "      <td>46.079304</td>\n",
       "      <td>40.380741</td>\n",
       "      <td>...</td>\n",
       "      <td>53.623756</td>\n",
       "      <td>50.438831</td>\n",
       "      <td>66.285538</td>\n",
       "      <td>46.099663</td>\n",
       "      <td>66.114250</td>\n",
       "      <td>47.787155</td>\n",
       "      <td>64.179054</td>\n",
       "      <td>47.003986</td>\n",
       "      <td>71.314827</td>\n",
       "      <td>4</td>\n",
       "    </tr>\n",
       "    <tr>\n",
       "      <th>1227</th>\n",
       "      <td>66.283669</td>\n",
       "      <td>58.997826</td>\n",
       "      <td>30.279085</td>\n",
       "      <td>58.659847</td>\n",
       "      <td>60.486519</td>\n",
       "      <td>58.462868</td>\n",
       "      <td>73.628334</td>\n",
       "      <td>58.614807</td>\n",
       "      <td>37.130314</td>\n",
       "      <td>58.384785</td>\n",
       "      <td>...</td>\n",
       "      <td>41.898853</td>\n",
       "      <td>64.289200</td>\n",
       "      <td>24.783585</td>\n",
       "      <td>34.311485</td>\n",
       "      <td>25.512850</td>\n",
       "      <td>49.311924</td>\n",
       "      <td>29.098455</td>\n",
       "      <td>48.765415</td>\n",
       "      <td>20.242533</td>\n",
       "      <td>2</td>\n",
       "    </tr>\n",
       "    <tr>\n",
       "      <th>1228</th>\n",
       "      <td>44.679150</td>\n",
       "      <td>35.151794</td>\n",
       "      <td>45.486546</td>\n",
       "      <td>34.437473</td>\n",
       "      <td>45.567047</td>\n",
       "      <td>35.631130</td>\n",
       "      <td>44.914516</td>\n",
       "      <td>35.300240</td>\n",
       "      <td>45.871212</td>\n",
       "      <td>35.716991</td>\n",
       "      <td>...</td>\n",
       "      <td>55.852810</td>\n",
       "      <td>45.053646</td>\n",
       "      <td>73.268311</td>\n",
       "      <td>45.595284</td>\n",
       "      <td>73.932098</td>\n",
       "      <td>45.566628</td>\n",
       "      <td>71.075584</td>\n",
       "      <td>45.765278</td>\n",
       "      <td>79.492744</td>\n",
       "      <td>0</td>\n",
       "    </tr>\n",
       "  </tbody>\n",
       "</table>\n",
       "<p>1229 rows × 31 columns</p>\n",
       "</div>"
      ],
      "text/plain": [
       "      left_eye_center_x  left_eye_center_y  right_eye_center_x  \\\n",
       "0             63.225338          39.555046           30.223234   \n",
       "1             63.858227          35.405937           29.519472   \n",
       "2             64.983780          36.059624           28.473663   \n",
       "3             66.266068          57.231506           29.225914   \n",
       "4             62.588993          36.424339           32.766506   \n",
       "...                 ...                ...                 ...   \n",
       "1224          65.335052          36.820282           29.904051   \n",
       "1225          60.907719          36.744831           34.395382   \n",
       "1226          49.301739          39.464100           43.757874   \n",
       "1227          66.283669          58.997826           30.279085   \n",
       "1228          44.679150          35.151794           45.486546   \n",
       "\n",
       "      right_eye_center_y  left_eye_inner_corner_x  left_eye_inner_corner_y  \\\n",
       "0              39.981815                57.113300                40.158997   \n",
       "1              34.745228                57.431396                36.362804   \n",
       "2              35.799683                57.658897                36.934914   \n",
       "3              56.698650                60.839813                56.197315   \n",
       "4              36.414913                56.968884                37.341351   \n",
       "...                  ...                      ...                      ...   \n",
       "1224           36.129154                59.144066                37.561111   \n",
       "1225           37.152073                56.075356                37.824970   \n",
       "1226           39.889622                49.705399                39.996403   \n",
       "1227           58.659847                60.486519                58.462868   \n",
       "1228           34.437473                45.567047                35.631130   \n",
       "\n",
       "      left_eye_outer_corner_x  left_eye_outer_corner_y  \\\n",
       "0                   70.933685                39.934227   \n",
       "1                   71.780769                36.353031   \n",
       "2                   73.093918                36.765244   \n",
       "3                   73.957932                56.405087   \n",
       "4                   68.973686                37.263817   \n",
       "...                       ...                      ...   \n",
       "1224                72.583282                37.737061   \n",
       "1225                67.708221                37.960762   \n",
       "1226                51.482235                39.692917   \n",
       "1227                73.628334                58.614807   \n",
       "1228                44.914516                35.300240   \n",
       "\n",
       "      right_eye_inner_corner_x  right_eye_inner_corner_y  ...  nose_tip_y  \\\n",
       "0                    36.810547                 40.570427  ...   52.860905   \n",
       "1                    36.513950                 36.072594  ...   56.594479   \n",
       "2                    36.239868                 37.025284  ...   57.662708   \n",
       "3                    36.376297                 56.147694  ...   42.383160   \n",
       "4                    39.194931                 37.270084  ...   58.718033   \n",
       "...                        ...                       ...  ...         ...   \n",
       "1224                 36.736530                 37.204342  ...   57.568581   \n",
       "1225                 40.064674                 38.493389  ...   58.298260   \n",
       "1226                 46.079304                 40.380741  ...   53.623756   \n",
       "1227                 37.130314                 58.384785  ...   41.898853   \n",
       "1228                 45.871212                 35.716991  ...   55.852810   \n",
       "\n",
       "      mouth_left_corner_x  mouth_left_corner_y  mouth_right_corner_x  \\\n",
       "0               62.059879            65.060501             33.955898   \n",
       "1               61.833500            75.982635             32.601440   \n",
       "2               63.431553            75.867180             31.864979   \n",
       "3               63.708355            28.463791             33.326408   \n",
       "4               60.969318            77.897827             35.731026   \n",
       "...                   ...                  ...                   ...   \n",
       "1224            62.365894            76.098717             33.432579   \n",
       "1225            60.338192            75.510033             36.752808   \n",
       "1226            50.438831            66.285538             46.099663   \n",
       "1227            64.289200            24.783585             34.311485   \n",
       "1228            45.053646            73.268311             45.595284   \n",
       "\n",
       "      mouth_right_corner_y  mouth_center_top_lip_x  mouth_center_top_lip_y  \\\n",
       "0                65.286751               47.806236               63.300556   \n",
       "1                76.591232               47.349449               73.508614   \n",
       "2                76.845558               47.708309               73.973305   \n",
       "3                28.859207               48.518372               31.559700   \n",
       "4                78.042366               48.430191               75.640511   \n",
       "...                    ...                     ...                     ...   \n",
       "1224             76.203751               48.003929               72.486702   \n",
       "1225             75.586006               48.479561               73.686722   \n",
       "1226             66.114250               47.787155               64.179054   \n",
       "1227             25.512850               49.311924               29.098455   \n",
       "1228             73.932098               45.566628               71.075584   \n",
       "\n",
       "      mouth_center_bottom_lip_x  mouth_center_bottom_lip_y  emotion  \n",
       "0                     47.314823                  69.232315        3  \n",
       "1                     47.029903                  83.464516        2  \n",
       "2                     47.553303                  82.645836        2  \n",
       "3                     48.341076                  24.951239        3  \n",
       "4                     48.110439                  84.221992        0  \n",
       "...                         ...                        ...      ...  \n",
       "1224                  47.572701                  83.815147        0  \n",
       "1225                  47.699680                  80.789421        2  \n",
       "1226                  47.003986                  71.314827        4  \n",
       "1227                  48.765415                  20.242533        2  \n",
       "1228                  45.765278                  79.492744        0  \n",
       "\n",
       "[1229 rows x 31 columns]"
      ]
     },
     "execution_count": 17,
     "metadata": {},
     "output_type": "execute_result"
    }
   ],
   "source": [
    "df_predict"
   ]
  },
  {
   "cell_type": "markdown",
   "metadata": {},
   "source": [
    "Now we are able to use to use both the models and make predictions successfully"
   ]
  },
  {
   "cell_type": "markdown",
   "metadata": {},
   "source": [
    "# Deploying the models using Tensorflow 2.0 serving"
   ]
  },
  {
   "cell_type": "markdown",
   "metadata": {},
   "source": [
    "Steps \n",
    "\n",
    "1) Serialize and save models to be ready for deplyment using a deploy function\n",
    "\n",
    "2) Install necessary packages\n",
    "\n",
    "3) Assign ports and call deploy function for both models separately\n",
    "\n",
    "4) Verify successful deployment by observing logs\n",
    "\n",
    "5) Make json requests to deployed models using python's requests module\n",
    "\n",
    "5) Get predictions from response and try to visualize\n"
   ]
  },
  {
   "cell_type": "markdown",
   "metadata": {},
   "source": [
    "Step 1)"
   ]
  },
  {
   "cell_type": "code",
   "execution_count": 19,
   "metadata": {},
   "outputs": [],
   "source": [
    "def deploy(dir,model):\n",
    "    \n",
    "    MODEL_DIR = dir\n",
    "    \n",
    "    version = 1\n",
    "    \n",
    "    export_path = os.path.join(MODEL_DIR,str(version))\n",
    "    # for verification\n",
    "    print(f\"Export path : {export_path}\\n\")\n",
    "    \n",
    "    # Remove similar versions of model if already present\n",
    "    if os.path.isdir(export_path):\n",
    "        print(\"Deleting already available model of same version\")\n",
    "        !rm -r {export_path}\n",
    "        \n",
    "    tf.saved_model.save(model,export_path)\n",
    "    \n",
    "    os.environ[\"MODEL_DIR\"] = MODEL_DIR"
   ]
  },
  {
   "cell_type": "markdown",
   "metadata": {},
   "source": [
    "Step 2)"
   ]
  },
  {
   "cell_type": "markdown",
   "metadata": {},
   "source": [
    "We need to add tensorflow-model-server package"
   ]
  },
  {
   "cell_type": "code",
   "execution_count": null,
   "metadata": {},
   "outputs": [],
   "source": []
  }
 ],
 "metadata": {
  "kernelspec": {
   "display_name": "Python 3",
   "language": "python",
   "name": "python3"
  },
  "language_info": {
   "codemirror_mode": {
    "name": "ipython",
    "version": 3
   },
   "file_extension": ".py",
   "mimetype": "text/x-python",
   "name": "python",
   "nbconvert_exporter": "python",
   "pygments_lexer": "ipython3",
   "version": "3.8.10"
  },
  "toc": {
   "base_numbering": 1,
   "nav_menu": {},
   "number_sections": true,
   "sideBar": true,
   "skip_h1_title": false,
   "title_cell": "Table of Contents",
   "title_sidebar": "Contents",
   "toc_cell": true,
   "toc_position": {},
   "toc_section_display": true,
   "toc_window_display": false
  }
 },
 "nbformat": 4,
 "nbformat_minor": 4
}
